{
 "cells": [
  {
   "cell_type": "code",
   "execution_count": 2,
   "metadata": {
    "collapsed": true
   },
   "outputs": [],
   "source": [
    "from SPARQLWrapper import SPARQLWrapper, JSON"
   ]
  },
  {
   "cell_type": "code",
   "execution_count": 5,
   "metadata": {
    "collapsed": false
   },
   "outputs": [
    {
     "name": "stdout",
     "output_type": "stream",
     "text": [
      "http://www.openlinksw.com/schemas/virtrdf#QuadMapFormat\n",
      "http://www.openlinksw.com/schemas/virtrdf#QuadStorage\n",
      "http://www.openlinksw.com/schemas/virtrdf#array-of-QuadMapFormat\n",
      "http://www.openlinksw.com/schemas/virtrdf#QuadMap\n",
      "http://www.openlinksw.com/schemas/virtrdf#QuadMapValue\n",
      "http://www.openlinksw.com/schemas/virtrdf#array-of-QuadMapColumn\n",
      "http://www.openlinksw.com/schemas/virtrdf#QuadMapColumn\n",
      "http://www.openlinksw.com/schemas/virtrdf#array-of-QuadMapATable\n",
      "http://www.openlinksw.com/schemas/virtrdf#QuadMapATable\n",
      "http://www.openlinksw.com/schemas/virtrdf#QuadMapFText\n",
      "http://www.openlinksw.com/schemas/virtrdf#array-of-string\n",
      "http://www.openlinksw.com/schemas/virtrdf#array-of-QuadMap\n",
      "http://www.w3.org/ns/sparql-service-description#Service\n",
      "http://www.w3.org/1999/02/22-rdf-syntax-ns#Property\n",
      "http://www.w3.org/2002/07/owl#Class\n",
      "http://www.w3.org/2002/07/owl#Ontology\n",
      "http://www.w3.org/2000/01/rdf-schema#Class\n",
      "http://www.w3.org/2002/07/owl#OntologyProperty\n",
      "http://www.w3.org/2002/07/owl#AnnotationProperty\n",
      "http://vivoweb.org/ontology/core#Laboratory\n",
      "http://vivoplus.aksw.org/ontology#CandidateOfSciences\n",
      "http://vivoplus.aksw.org/ontology#Laboratory\n",
      "http://xmlns.com/foaf/0.1/Person\n",
      "http://vivoplus.aksw.org/ontology#AcademicQualification\n",
      "http://vivoplus.aksw.org/ontology#Supervisor\n",
      "http://vivoplus.aksw.org/ontology#ScientificSupervisor\n",
      "http://vivoplus.aksw.org/ontology#ResearchArea\n",
      "http://vivoplus.aksw.org/ontology#DoctorOfSciences\n",
      "http://vivoweb.org/ontology/core#AcademicDegree\n",
      "http://vivoplus.aksw.org/ontology#AcademicSubject\n",
      "http://vivoweb.org/ontology/core#Student\n"
     ]
    }
   ],
   "source": [
    "sparql = SPARQLWrapper(\"http://lod.ifmo.ru/sparql\")\n",
    "sparql.setQuery(\"\"\"\n",
    "    SELECT DISTINCT ?Concept WHERE {[] a ?Concept} LIMIT 100\n",
    "\"\"\")\n",
    "\n",
    "sparql.setReturnFormat(JSON)\n",
    "results = sparql.query().convert()\n",
    "\n",
    "for result in results[\"results\"][\"bindings\"]:\n",
    "    print(result[\"Concept\"][\"value\"])"
   ]
  }
 ],
 "metadata": {
  "anaconda-cloud": {},
  "kernelspec": {
   "display_name": "Python [default]",
   "language": "python",
   "name": "python3"
  },
  "language_info": {
   "codemirror_mode": {
    "name": "ipython",
    "version": 3
   },
   "file_extension": ".py",
   "mimetype": "text/x-python",
   "name": "python",
   "nbconvert_exporter": "python",
   "pygments_lexer": "ipython3",
   "version": "3.5.2"
  }
 },
 "nbformat": 4,
 "nbformat_minor": 1
}
